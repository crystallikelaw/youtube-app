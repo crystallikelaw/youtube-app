{
 "cells": [
  {
   "cell_type": "code",
   "execution_count": 5,
   "metadata": {},
   "outputs": [],
   "source": [
    "import pandas as pd\n",
    "import glob\n",
    "from pprint import PrettyPrinter\n",
    "\n",
    "pp = PrettyPrinter()\n",
    "\n",
    "a = [pd.read_pickle(i[2:]) for i in glob.glob('./*.pkl')]"
   ]
  },
  {
   "cell_type": "code",
   "execution_count": 22,
   "metadata": {},
   "outputs": [
    {
     "name": "stdout",
     "output_type": "stream",
     "text": [
      "(1667, 8)\n",
      "channel       0\n",
      "title         0\n",
      "videoID       0\n",
      "date          0\n",
      "likes         0\n",
      "comments    114\n",
      "views         1\n",
      "game        152\n",
      "dtype: int64\n"
     ]
    },
    {
     "data": {
      "text/html": [
       "<div>\n",
       "<style scoped>\n",
       "    .dataframe tbody tr th:only-of-type {\n",
       "        vertical-align: middle;\n",
       "    }\n",
       "\n",
       "    .dataframe tbody tr th {\n",
       "        vertical-align: top;\n",
       "    }\n",
       "\n",
       "    .dataframe thead th {\n",
       "        text-align: right;\n",
       "    }\n",
       "</style>\n",
       "<table border=\"1\" class=\"dataframe\">\n",
       "  <thead>\n",
       "    <tr style=\"text-align: right;\">\n",
       "      <th></th>\n",
       "      <th>channel</th>\n",
       "      <th>title</th>\n",
       "      <th>videoID</th>\n",
       "      <th>date</th>\n",
       "      <th>likes</th>\n",
       "      <th>comments</th>\n",
       "      <th>views</th>\n",
       "      <th>game</th>\n",
       "    </tr>\n",
       "  </thead>\n",
       "  <tbody>\n",
       "    <tr>\n",
       "      <th>0</th>\n",
       "      <td>VanossGaming</td>\n",
       "      <td>Escape Simulator - World's Most Confusing Esca...</td>\n",
       "      <td>NsqbRDIQL10</td>\n",
       "      <td>2023-01-17T01:56:51Z</td>\n",
       "      <td>26,603.0</td>\n",
       "      <td>714.0</td>\n",
       "      <td>550,912.0</td>\n",
       "      <td>Escape Simulator</td>\n",
       "    </tr>\n",
       "    <tr>\n",
       "      <th>1</th>\n",
       "      <td>VanossGaming</td>\n",
       "      <td>Backrooms Survival - We're Getting So Close!</td>\n",
       "      <td>h7OPvF7_JxM</td>\n",
       "      <td>2023-01-16T03:18:48Z</td>\n",
       "      <td>30,363.0</td>\n",
       "      <td>1,200.0</td>\n",
       "      <td>542,255.0</td>\n",
       "      <td>Backrooms Survival Horror</td>\n",
       "    </tr>\n",
       "    <tr>\n",
       "      <th>2</th>\n",
       "      <td>VanossGaming</td>\n",
       "      <td>Gmod Death Run - Logan Paul's Cryptozoo Scam! ...</td>\n",
       "      <td>jxU0ZCSo6Tw</td>\n",
       "      <td>2023-01-15T02:25:33Z</td>\n",
       "      <td>62,931.0</td>\n",
       "      <td>1,900.0</td>\n",
       "      <td>1,277,457.0</td>\n",
       "      <td>Garry's Mod</td>\n",
       "    </tr>\n",
       "    <tr>\n",
       "      <th>3</th>\n",
       "      <td>VanossGaming</td>\n",
       "      <td>Remnant Records - Andrew Tate Fan Mauled by Du...</td>\n",
       "      <td>RUJQ3bt8z7U</td>\n",
       "      <td>2023-01-11T01:34:11Z</td>\n",
       "      <td>35,342.0</td>\n",
       "      <td>1,000.0</td>\n",
       "      <td>874,402.0</td>\n",
       "      <td>Remnant Records</td>\n",
       "    </tr>\n",
       "    <tr>\n",
       "      <th>4</th>\n",
       "      <td>VanossGaming</td>\n",
       "      <td>Goat Simulator - Becoming a Shark and Trolling...</td>\n",
       "      <td>ODOWbxO7eXs</td>\n",
       "      <td>2023-01-09T00:00:51Z</td>\n",
       "      <td>37,956.0</td>\n",
       "      <td>1,000.0</td>\n",
       "      <td>868,250.0</td>\n",
       "      <td>Goat Simulator</td>\n",
       "    </tr>\n",
       "  </tbody>\n",
       "</table>\n",
       "</div>"
      ],
      "text/plain": [
       "        channel                                              title  \\\n",
       "0  VanossGaming  Escape Simulator - World's Most Confusing Esca...   \n",
       "1  VanossGaming       Backrooms Survival - We're Getting So Close!   \n",
       "2  VanossGaming  Gmod Death Run - Logan Paul's Cryptozoo Scam! ...   \n",
       "3  VanossGaming  Remnant Records - Andrew Tate Fan Mauled by Du...   \n",
       "4  VanossGaming  Goat Simulator - Becoming a Shark and Trolling...   \n",
       "\n",
       "       videoID                  date    likes  comments       views  \\\n",
       "0  NsqbRDIQL10  2023-01-17T01:56:51Z 26,603.0     714.0   550,912.0   \n",
       "1  h7OPvF7_JxM  2023-01-16T03:18:48Z 30,363.0   1,200.0   542,255.0   \n",
       "2  jxU0ZCSo6Tw  2023-01-15T02:25:33Z 62,931.0   1,900.0 1,277,457.0   \n",
       "3  RUJQ3bt8z7U  2023-01-11T01:34:11Z 35,342.0   1,000.0   874,402.0   \n",
       "4  ODOWbxO7eXs  2023-01-09T00:00:51Z 37,956.0   1,000.0   868,250.0   \n",
       "\n",
       "                        game  \n",
       "0           Escape Simulator  \n",
       "1  Backrooms Survival Horror  \n",
       "2                Garry's Mod  \n",
       "3            Remnant Records  \n",
       "4             Goat Simulator  "
      ]
     },
     "execution_count": 22,
     "metadata": {},
     "output_type": "execute_result"
    }
   ],
   "source": [
    "i = \n",
    "\n",
    "print(a[i].shape)\n",
    "print(a[i].isna().sum())\n",
    "a[i].head()"
   ]
  },
  {
   "cell_type": "code",
   "execution_count": null,
   "metadata": {},
   "outputs": [],
   "source": []
  }
 ],
 "metadata": {
  "kernelspec": {
   "display_name": "metis",
   "language": "python",
   "name": "python3"
  },
  "language_info": {
   "codemirror_mode": {
    "name": "ipython",
    "version": 3
   },
   "file_extension": ".py",
   "mimetype": "text/x-python",
   "name": "python",
   "nbconvert_exporter": "python",
   "pygments_lexer": "ipython3",
   "version": "3.10.8"
  },
  "orig_nbformat": 4,
  "vscode": {
   "interpreter": {
    "hash": "1c09559323b85adfc689396d666c6ccf546780114e7a2e5517bb0ba3d2510c88"
   }
  }
 },
 "nbformat": 4,
 "nbformat_minor": 2
}
